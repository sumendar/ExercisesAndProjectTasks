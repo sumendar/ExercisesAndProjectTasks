{
  "cells": [
    {
      "metadata": {},
      "cell_type": "markdown",
      "source": "**Machine Learning Project Lifecycle (Workflow)**"
    },
    {
      "metadata": {
        "collapsed": true
      },
      "cell_type": "markdown",
      "source": "![Imgur](https://i.imgur.com/ZJypn6y.jpg)"
    },
    {
      "metadata": {},
      "cell_type": "markdown",
      "source": "# *Projects using* Real-World dataset"
    },
    {
      "metadata": {},
      "cell_type": "markdown",
      "source": "**Start Building Your First Machine Learning Project With This Famous Datase**  \nhttps://www.analyticsindiamag.com/start-building-first-machine-learning-project-famous-dataset/  "
    },
    {
      "metadata": {},
      "cell_type": "markdown",
      "source": "**Machine Learning from Start to Finish with Scikit-Learn(*Basic Level*)**  \nhttps://www.kaggle.com/cesartrevisan/scikit-learn-and-gridsearchcv  "
    },
    {
      "metadata": {},
      "cell_type": "markdown",
      "source": "# Machine Learning project Task Template\n*project1*  "
    },
    {
      "metadata": {},
      "cell_type": "markdown",
      "source": "**Project Goal:**  \nPredict whether income exceeds $50K/yr based on census data. Also known as \"Adult\" dataset"
    },
    {
      "metadata": {},
      "cell_type": "markdown",
      "source": "**Dataset Location:**  \nCensus Income Data Set (https://archive.ics.uci.edu/ml/datasets/census+income)   \n**Dataset Description:**  \nhttps://archive.ics.uci.edu/ml/datasets/census+income    "
    },
    {
      "metadata": {},
      "cell_type": "markdown",
      "source": "## Step 1 — Import necessary libraries"
    },
    {
      "metadata": {
        "trusted": true
      },
      "cell_type": "code",
      "source": "# your code here",
      "execution_count": null,
      "outputs": []
    },
    {
      "metadata": {},
      "cell_type": "markdown",
      "source": "## Step 2 — Import the dataset"
    },
    {
      "metadata": {
        "trusted": true
      },
      "cell_type": "code",
      "source": "# your code here",
      "execution_count": null,
      "outputs": []
    },
    {
      "metadata": {},
      "cell_type": "markdown",
      "source": "## Step 3 — Handle missing data"
    },
    {
      "metadata": {
        "trusted": true
      },
      "cell_type": "code",
      "source": "# your code here",
      "execution_count": null,
      "outputs": []
    },
    {
      "metadata": {},
      "cell_type": "markdown",
      "source": "## Step 4 — Convert categorical variables to numeric variables"
    },
    {
      "metadata": {
        "trusted": true
      },
      "cell_type": "code",
      "source": "# your code here",
      "execution_count": null,
      "outputs": []
    },
    {
      "metadata": {},
      "cell_type": "markdown",
      "source": "## Step 5 — Perform scaling"
    },
    {
      "metadata": {
        "trusted": true
      },
      "cell_type": "code",
      "source": "# your code here",
      "execution_count": null,
      "outputs": []
    },
    {
      "metadata": {},
      "cell_type": "markdown",
      "source": "## Step 6 — Split the dataset into training and testing data"
    },
    {
      "metadata": {
        "trusted": true
      },
      "cell_type": "code",
      "source": "# your code here",
      "execution_count": null,
      "outputs": []
    },
    {
      "metadata": {},
      "cell_type": "markdown",
      "source": "## Step 7 —  Model Building \n(any one classification algorithm)  "
    },
    {
      "metadata": {
        "trusted": true
      },
      "cell_type": "code",
      "source": "# your code here",
      "execution_count": null,
      "outputs": []
    },
    {
      "metadata": {},
      "cell_type": "markdown",
      "source": "## Step 8 —  Model Prediction"
    },
    {
      "metadata": {
        "trusted": true
      },
      "cell_type": "code",
      "source": "# your code here",
      "execution_count": null,
      "outputs": []
    },
    {
      "metadata": {},
      "cell_type": "markdown",
      "source": "## Step 9 —  Model Evaluation"
    },
    {
      "metadata": {
        "trusted": true
      },
      "cell_type": "code",
      "source": "# your code here",
      "execution_count": null,
      "outputs": []
    },
    {
      "metadata": {},
      "cell_type": "markdown",
      "source": "**Ref:**  \nhttps://www.analyticsindiamag.com/7-types-classification-algorithms/  "
    }
  ],
  "metadata": {
    "kernelspec": {
      "name": "python36",
      "display_name": "Python 3.6",
      "language": "python"
    },
    "language_info": {
      "mimetype": "text/x-python",
      "nbconvert_exporter": "python",
      "name": "python",
      "pygments_lexer": "ipython3",
      "version": "3.6.6",
      "file_extension": ".py",
      "codemirror_mode": {
        "version": 3,
        "name": "ipython"
      }
    }
  },
  "nbformat": 4,
  "nbformat_minor": 2
}
